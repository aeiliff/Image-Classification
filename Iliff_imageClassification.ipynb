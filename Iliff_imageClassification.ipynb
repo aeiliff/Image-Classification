{
 "cells": [
  {
   "cell_type": "code",
   "execution_count": 1,
   "id": "069523d7",
   "metadata": {},
   "outputs": [],
   "source": [
    "import pandas as pd\n",
    "import numpy as np\n",
    "\n",
    "from sklearn.svm import SVC\n",
    "from sklearn.model_selection import GridSearchCV\n",
    "from sklearn.model_selection import train_test_split\n",
    "from sklearn.metrics import accuracy_score\n",
    "\n",
    "## Images:\n",
    "from skimage.transform import resize\n",
    "from skimage.io import imread\n",
    "\n",
    "import os\n",
    "import matplotlib.pyplot as plt\n",
    "\n",
    "import pickle"
   ]
  },
  {
   "cell_type": "code",
   "execution_count": 2,
   "id": "1a73bffc",
   "metadata": {},
   "outputs": [
    {
     "name": "stdout",
     "output_type": "stream",
     "text": [
      "loading... category:  ChickenHead\n",
      "loaded category  ChickenHead successfully\n",
      "loading... category:  ElephantHead\n",
      "loaded category  ElephantHead successfully\n"
     ]
    }
   ],
   "source": [
    "datadir = 'images/'\n",
    "categories = ['ChickenHead', 'ElephantHead']\n",
    "\n",
    "flat_data_arr = []\n",
    "target_arr = []\n",
    "\n",
    "for i in categories:\n",
    "    print ('loading... category: ', i)\n",
    "    path = os.path.join (datadir, i)\n",
    "    for img in os.listdir (path):\n",
    "        img_array = imread (os.path.join (path, img))\n",
    "        img_resized = resize (img_array, (150, 150, 3))\n",
    "        flat_data_arr.append (img_resized.flatten())\n",
    "        target_arr.append (categories.index(i))\n",
    "    print (\"loaded category \", i, \"successfully\")        "
   ]
  },
  {
   "cell_type": "code",
   "execution_count": 3,
   "id": "8446d153",
   "metadata": {},
   "outputs": [
    {
     "data": {
      "text/html": [
       "<div>\n",
       "<style scoped>\n",
       "    .dataframe tbody tr th:only-of-type {\n",
       "        vertical-align: middle;\n",
       "    }\n",
       "\n",
       "    .dataframe tbody tr th {\n",
       "        vertical-align: top;\n",
       "    }\n",
       "\n",
       "    .dataframe thead th {\n",
       "        text-align: right;\n",
       "    }\n",
       "</style>\n",
       "<table border=\"1\" class=\"dataframe\">\n",
       "  <thead>\n",
       "    <tr style=\"text-align: right;\">\n",
       "      <th></th>\n",
       "      <th>0</th>\n",
       "      <th>1</th>\n",
       "      <th>2</th>\n",
       "      <th>3</th>\n",
       "      <th>4</th>\n",
       "      <th>5</th>\n",
       "      <th>6</th>\n",
       "      <th>7</th>\n",
       "      <th>8</th>\n",
       "      <th>9</th>\n",
       "      <th>...</th>\n",
       "      <th>67491</th>\n",
       "      <th>67492</th>\n",
       "      <th>67493</th>\n",
       "      <th>67494</th>\n",
       "      <th>67495</th>\n",
       "      <th>67496</th>\n",
       "      <th>67497</th>\n",
       "      <th>67498</th>\n",
       "      <th>67499</th>\n",
       "      <th>Target</th>\n",
       "    </tr>\n",
       "  </thead>\n",
       "  <tbody>\n",
       "    <tr>\n",
       "      <th>0</th>\n",
       "      <td>0.258824</td>\n",
       "      <td>0.258824</td>\n",
       "      <td>0.219608</td>\n",
       "      <td>0.231373</td>\n",
       "      <td>0.231373</td>\n",
       "      <td>0.192157</td>\n",
       "      <td>0.168627</td>\n",
       "      <td>0.168627</td>\n",
       "      <td>0.129412</td>\n",
       "      <td>0.180392</td>\n",
       "      <td>...</td>\n",
       "      <td>0.321569</td>\n",
       "      <td>0.321569</td>\n",
       "      <td>0.290196</td>\n",
       "      <td>0.301961</td>\n",
       "      <td>0.301961</td>\n",
       "      <td>0.270588</td>\n",
       "      <td>0.290196</td>\n",
       "      <td>0.290196</td>\n",
       "      <td>0.258824</td>\n",
       "      <td>0</td>\n",
       "    </tr>\n",
       "    <tr>\n",
       "      <th>1</th>\n",
       "      <td>0.121569</td>\n",
       "      <td>0.227451</td>\n",
       "      <td>0.105882</td>\n",
       "      <td>0.129412</td>\n",
       "      <td>0.227451</td>\n",
       "      <td>0.113725</td>\n",
       "      <td>0.176471</td>\n",
       "      <td>0.254902</td>\n",
       "      <td>0.149020</td>\n",
       "      <td>0.219608</td>\n",
       "      <td>...</td>\n",
       "      <td>0.784314</td>\n",
       "      <td>0.670588</td>\n",
       "      <td>0.513725</td>\n",
       "      <td>0.772549</td>\n",
       "      <td>0.658824</td>\n",
       "      <td>0.501961</td>\n",
       "      <td>0.768627</td>\n",
       "      <td>0.654902</td>\n",
       "      <td>0.498039</td>\n",
       "      <td>0</td>\n",
       "    </tr>\n",
       "    <tr>\n",
       "      <th>2</th>\n",
       "      <td>0.415686</td>\n",
       "      <td>0.698039</td>\n",
       "      <td>0.258824</td>\n",
       "      <td>0.384314</td>\n",
       "      <td>0.666667</td>\n",
       "      <td>0.235294</td>\n",
       "      <td>0.349020</td>\n",
       "      <td>0.619608</td>\n",
       "      <td>0.203922</td>\n",
       "      <td>0.321569</td>\n",
       "      <td>...</td>\n",
       "      <td>0.423529</td>\n",
       "      <td>0.615686</td>\n",
       "      <td>0.266667</td>\n",
       "      <td>0.435294</td>\n",
       "      <td>0.627451</td>\n",
       "      <td>0.270588</td>\n",
       "      <td>0.380392</td>\n",
       "      <td>0.572549</td>\n",
       "      <td>0.215686</td>\n",
       "      <td>0</td>\n",
       "    </tr>\n",
       "    <tr>\n",
       "      <th>3</th>\n",
       "      <td>0.000000</td>\n",
       "      <td>0.000000</td>\n",
       "      <td>0.000000</td>\n",
       "      <td>0.000000</td>\n",
       "      <td>0.000000</td>\n",
       "      <td>0.000000</td>\n",
       "      <td>0.000000</td>\n",
       "      <td>0.000000</td>\n",
       "      <td>0.000000</td>\n",
       "      <td>0.000000</td>\n",
       "      <td>...</td>\n",
       "      <td>0.000000</td>\n",
       "      <td>0.000000</td>\n",
       "      <td>0.000000</td>\n",
       "      <td>0.000000</td>\n",
       "      <td>0.000000</td>\n",
       "      <td>0.000000</td>\n",
       "      <td>0.000000</td>\n",
       "      <td>0.000000</td>\n",
       "      <td>0.000000</td>\n",
       "      <td>0</td>\n",
       "    </tr>\n",
       "    <tr>\n",
       "      <th>4</th>\n",
       "      <td>0.784314</td>\n",
       "      <td>0.729412</td>\n",
       "      <td>0.623529</td>\n",
       "      <td>0.776471</td>\n",
       "      <td>0.721569</td>\n",
       "      <td>0.615686</td>\n",
       "      <td>0.737255</td>\n",
       "      <td>0.682353</td>\n",
       "      <td>0.576471</td>\n",
       "      <td>0.690196</td>\n",
       "      <td>...</td>\n",
       "      <td>0.717647</td>\n",
       "      <td>0.643137</td>\n",
       "      <td>0.517647</td>\n",
       "      <td>0.725490</td>\n",
       "      <td>0.650980</td>\n",
       "      <td>0.525490</td>\n",
       "      <td>0.721569</td>\n",
       "      <td>0.647059</td>\n",
       "      <td>0.521569</td>\n",
       "      <td>0</td>\n",
       "    </tr>\n",
       "  </tbody>\n",
       "</table>\n",
       "<p>5 rows × 67501 columns</p>\n",
       "</div>"
      ],
      "text/plain": [
       "          0         1         2         3         4         5         6  \\\n",
       "0  0.258824  0.258824  0.219608  0.231373  0.231373  0.192157  0.168627   \n",
       "1  0.121569  0.227451  0.105882  0.129412  0.227451  0.113725  0.176471   \n",
       "2  0.415686  0.698039  0.258824  0.384314  0.666667  0.235294  0.349020   \n",
       "3  0.000000  0.000000  0.000000  0.000000  0.000000  0.000000  0.000000   \n",
       "4  0.784314  0.729412  0.623529  0.776471  0.721569  0.615686  0.737255   \n",
       "\n",
       "          7         8         9  ...     67491     67492     67493     67494  \\\n",
       "0  0.168627  0.129412  0.180392  ...  0.321569  0.321569  0.290196  0.301961   \n",
       "1  0.254902  0.149020  0.219608  ...  0.784314  0.670588  0.513725  0.772549   \n",
       "2  0.619608  0.203922  0.321569  ...  0.423529  0.615686  0.266667  0.435294   \n",
       "3  0.000000  0.000000  0.000000  ...  0.000000  0.000000  0.000000  0.000000   \n",
       "4  0.682353  0.576471  0.690196  ...  0.717647  0.643137  0.517647  0.725490   \n",
       "\n",
       "      67495     67496     67497     67498     67499  Target  \n",
       "0  0.301961  0.270588  0.290196  0.290196  0.258824       0  \n",
       "1  0.658824  0.501961  0.768627  0.654902  0.498039       0  \n",
       "2  0.627451  0.270588  0.380392  0.572549  0.215686       0  \n",
       "3  0.000000  0.000000  0.000000  0.000000  0.000000       0  \n",
       "4  0.650980  0.525490  0.721569  0.647059  0.521569       0  \n",
       "\n",
       "[5 rows x 67501 columns]"
      ]
     },
     "execution_count": 3,
     "metadata": {},
     "output_type": "execute_result"
    }
   ],
   "source": [
    "flat_data = np.array (flat_data_arr)\n",
    "target = np.array (target_arr)\n",
    "\n",
    "df = pd.DataFrame (flat_data)\n",
    "df['Target'] = target\n",
    "\n",
    "df.head()"
   ]
  },
  {
   "cell_type": "code",
   "execution_count": 59,
   "id": "6c29e8e2",
   "metadata": {},
   "outputs": [],
   "source": [
    "X = df.values[:, :-1]\n",
    "Y = df.values[:, -1]\n",
    "\n",
    "x_train, x_test, y_train, y_test = train_test_split (X, Y, test_size=0.2, random_state=47)"
   ]
  },
  {
   "cell_type": "code",
   "execution_count": 5,
   "id": "21660ccc",
   "metadata": {},
   "outputs": [
    {
     "data": {
      "text/plain": [
       "GridSearchCV(estimator=SVC(),\n",
       "             param_grid={'C': [10, 100], 'gamma': [0.0001, 0.001, 0.1, 1, 10],\n",
       "                         'kernel': ['rbf']})"
      ]
     },
     "execution_count": 5,
     "metadata": {},
     "output_type": "execute_result"
    }
   ],
   "source": [
    "param_grid = {'C': [10, 100], 'gamma': [0.0001, 0.001, 0.1, 1, 10], 'kernel': ['rbf']}\n",
    "svc1 = SVC()\n",
    "\n",
    "svc = GridSearchCV (svc1, param_grid)\n",
    "svc.fit (x_train, y_train)"
   ]
  },
  {
   "cell_type": "code",
   "execution_count": 6,
   "id": "61f69d15",
   "metadata": {},
   "outputs": [
    {
     "name": "stdout",
     "output_type": "stream",
     "text": [
      "{'C': 10, 'gamma': 0.0001, 'kernel': 'rbf'}\n",
      "Train Accuracy:  1.0\n",
      "Test Accuracy:  0.9\n"
     ]
    }
   ],
   "source": [
    "print (svc.best_params_)\n",
    "ypred_train = svc.predict (x_train)\n",
    "ypred_test = svc.predict (x_test)\n",
    "\n",
    "print ('Train Accuracy: ', accuracy_score (ypred_train, y_train))\n",
    "print ('Test Accuracy: ', accuracy_score (ypred_test, y_test))"
   ]
  },
  {
   "cell_type": "code",
   "execution_count": 7,
   "id": "a1934238",
   "metadata": {},
   "outputs": [
    {
     "name": "stdout",
     "output_type": "stream",
     "text": [
      "Accuracy = 0.925\n"
     ]
    }
   ],
   "source": [
    "from sklearn.ensemble import AdaBoostClassifier\n",
    "\n",
    "ab = AdaBoostClassifier(n_estimators = 9)\n",
    "ab.fit(x_train, y_train)\n",
    "y_pred3 = ab.predict(x_test)\n",
    "print('Accuracy =', accuracy_score(y_pred3, y_test))"
   ]
  },
  {
   "cell_type": "code",
   "execution_count": 65,
   "id": "33e4c53a",
   "metadata": {},
   "outputs": [
    {
     "name": "stdout",
     "output_type": "stream",
     "text": [
      "max accuracy:  0.875\n"
     ]
    },
    {
     "name": "stderr",
     "output_type": "stream",
     "text": [
      "C:\\Users\\iliff\\anaconda3\\lib\\site-packages\\sklearn\\neighbors\\_classification.py:228: FutureWarning: Unlike other reduction functions (e.g. `skew`, `kurtosis`), the default behavior of `mode` typically preserves the axis it acts along. In SciPy 1.11.0, this behavior will change: the default value of `keepdims` will become False, the `axis` over which the statistic is taken will be eliminated, and the value None will no longer be accepted. Set `keepdims` to True or False to avoid this warning.\n",
      "  mode, _ = stats.mode(_y[neigh_ind, k], axis=1)\n"
     ]
    }
   ],
   "source": [
    "from sklearn.neighbors import KNeighborsClassifier\n",
    "\n",
    "knn = KNeighborsClassifier (n_neighbors = 4)\n",
    "knn.fit (x_train, y_train)\n",
    "y_pred2 = knn.predict (x_test)\n",
    "print('max accuracy: ', accuracy_score (y_pred2, y_test))"
   ]
  },
  {
   "cell_type": "code",
   "execution_count": 23,
   "id": "b2a197cb",
   "metadata": {},
   "outputs": [
    {
     "name": "stdout",
     "output_type": "stream",
     "text": [
      "Test Accuracy:  0.95\n"
     ]
    }
   ],
   "source": [
    "from sklearn.neural_network import MLPClassifier\n",
    "r = MLPClassifier (hidden_layer_sizes = (5, 16), activation='relu')\n",
    "r.fit (x_train, y_train)\n",
    "yp_test = r.predict (x_test)\n",
    "print ('Test Accuracy: ', accuracy_score (yp_test, y_test))"
   ]
  },
  {
   "cell_type": "code",
   "execution_count": 10,
   "id": "8304d7d8",
   "metadata": {},
   "outputs": [
    {
     "name": "stdout",
     "output_type": "stream",
     "text": [
      "Accuracy = 0.975\n"
     ]
    }
   ],
   "source": [
    "from sklearn.ensemble import RandomForestClassifier\n",
    "\n",
    "rf = RandomForestClassifier(n_estimators = 10)\n",
    "rf.fit(x_train, y_train)\n",
    "y_pred1 = rf.predict(x_test)\n",
    "print('Accuracy =', accuracy_score(y_pred1, y_test))"
   ]
  },
  {
   "cell_type": "code",
   "execution_count": 11,
   "id": "00e6a604",
   "metadata": {},
   "outputs": [],
   "source": [
    "y_train[y_train == 0] = -1\n",
    "y_test[y_test == 0] = -1"
   ]
  },
  {
   "cell_type": "code",
   "execution_count": 58,
   "id": "3f972ca5",
   "metadata": {},
   "outputs": [
    {
     "name": "stdout",
     "output_type": "stream",
     "text": [
      "Accuracy = 0.925\n"
     ]
    }
   ],
   "source": [
    "from sklearn.ensemble import AdaBoostClassifier\n",
    "\n",
    "ab = AdaBoostClassifier(n_estimators = 9)\n",
    "ab.fit(x_train, y_train)\n",
    "y_pred3 = ab.predict(x_test)\n",
    "print('Accuracy =', accuracy_score(y_pred3, y_test))"
   ]
  },
  {
   "cell_type": "code",
   "execution_count": 24,
   "id": "a048eedd",
   "metadata": {},
   "outputs": [],
   "source": [
    "pickle.dump (svc, open('SVCModel.p', 'wb'))\n",
    "pickle.dump (rf, open('randomForestModel.p', 'wb'))\n",
    "pickle.dump (knn, open('KNNModel.p', 'wb'))\n",
    "pickle.dump (ab, open('adaBoostModel.p', 'wb'))\n",
    "pickle.dump (r, open('neuralNetworkModel.p', 'wb'))"
   ]
  },
  {
   "cell_type": "code",
   "execution_count": 25,
   "id": "72e0cbd3",
   "metadata": {},
   "outputs": [],
   "source": [
    "svc = pickle.load (open('SVCModel.p', 'rb'))\n",
    "rf = pickle.load (open('randomForestModel.p', 'rb'))\n",
    "knn = pickle.load (open('KNNModel.p', 'rb'))\n",
    "ab = pickle.load (open('adaBoostModel.p', 'rb'))\n",
    "r = pickle.load (open('neuralNetworkModel.p', 'rb'))"
   ]
  },
  {
   "cell_type": "code",
   "execution_count": 51,
   "id": "7e7028fa",
   "metadata": {},
   "outputs": [
    {
     "name": "stdout",
     "output_type": "stream",
     "text": [
      "(1, 67500)\n"
     ]
    }
   ],
   "source": [
    "filename = 'chicken3.jpg'\n",
    "\n",
    "img_array = imread (filename)\n",
    "img_resized = resize (img_array, (150, 150, 3))\n",
    "test_data = np.array (img_resized.flatten())\n",
    "test_data = test_data.reshape(1, -1)\n",
    "print (test_data.shape)"
   ]
  },
  {
   "cell_type": "code",
   "execution_count": 52,
   "id": "c2017ba1",
   "metadata": {},
   "outputs": [
    {
     "name": "stdout",
     "output_type": "stream",
     "text": [
      "Chicken\n"
     ]
    }
   ],
   "source": [
    "p = svc.predict (test_data)\n",
    "if p==0: print ('Chicken')\n",
    "else: print ('Elephant')"
   ]
  },
  {
   "cell_type": "code",
   "execution_count": 53,
   "id": "fe1ffc85",
   "metadata": {},
   "outputs": [
    {
     "name": "stdout",
     "output_type": "stream",
     "text": [
      "Chicken\n"
     ]
    }
   ],
   "source": [
    "p = rf.predict (test_data)\n",
    "if p==0: print ('Chicken')\n",
    "else: print ('Elephant')"
   ]
  },
  {
   "cell_type": "code",
   "execution_count": 54,
   "id": "6fe6d51c",
   "metadata": {},
   "outputs": [
    {
     "name": "stdout",
     "output_type": "stream",
     "text": [
      "Elephant\n"
     ]
    },
    {
     "name": "stderr",
     "output_type": "stream",
     "text": [
      "C:\\Users\\iliff\\anaconda3\\lib\\site-packages\\sklearn\\neighbors\\_classification.py:228: FutureWarning: Unlike other reduction functions (e.g. `skew`, `kurtosis`), the default behavior of `mode` typically preserves the axis it acts along. In SciPy 1.11.0, this behavior will change: the default value of `keepdims` will become False, the `axis` over which the statistic is taken will be eliminated, and the value None will no longer be accepted. Set `keepdims` to True or False to avoid this warning.\n",
      "  mode, _ = stats.mode(_y[neigh_ind, k], axis=1)\n"
     ]
    }
   ],
   "source": [
    "p = knn.predict (test_data)\n",
    "if p==0: print ('Chicken')\n",
    "else: print ('Elephant')"
   ]
  },
  {
   "cell_type": "code",
   "execution_count": 55,
   "id": "0e60df89",
   "metadata": {},
   "outputs": [
    {
     "name": "stdout",
     "output_type": "stream",
     "text": [
      "Elephant\n"
     ]
    }
   ],
   "source": [
    "p = ab.predict (test_data)\n",
    "if p==0: print ('Chicken')\n",
    "else: print ('Elephant')"
   ]
  },
  {
   "cell_type": "code",
   "execution_count": 56,
   "id": "8d3ad197",
   "metadata": {},
   "outputs": [
    {
     "name": "stdout",
     "output_type": "stream",
     "text": [
      "Chicken\n"
     ]
    }
   ],
   "source": [
    "p = r.predict (test_data)\n",
    "if p==0: print ('Chicken')\n",
    "else: print ('Elephant')"
   ]
  },
  {
   "cell_type": "code",
   "execution_count": null,
   "id": "73514a55",
   "metadata": {},
   "outputs": [],
   "source": []
  },
  {
   "cell_type": "code",
   "execution_count": null,
   "id": "6fb4d5b7",
   "metadata": {},
   "outputs": [],
   "source": []
  }
 ],
 "metadata": {
  "kernelspec": {
   "display_name": "Python 3 (ipykernel)",
   "language": "python",
   "name": "python3"
  },
  "language_info": {
   "codemirror_mode": {
    "name": "ipython",
    "version": 3
   },
   "file_extension": ".py",
   "mimetype": "text/x-python",
   "name": "python",
   "nbconvert_exporter": "python",
   "pygments_lexer": "ipython3",
   "version": "3.9.13"
  }
 },
 "nbformat": 4,
 "nbformat_minor": 5
}
